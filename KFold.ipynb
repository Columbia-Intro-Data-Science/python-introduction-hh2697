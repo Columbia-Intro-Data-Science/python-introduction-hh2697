{
 "cells": [
  {
   "cell_type": "code",
   "execution_count": 21,
   "metadata": {
    "collapsed": true
   },
   "outputs": [],
   "source": [
    "# Load in data from the csv file\n",
    "df = pd.read_csv('/Users/hanzehu/Downloads/APMAE4990--master/data/set_a.csv',index_col=0)\n",
    "df.head()\n",
    "data = pd.read_csv('set_a.csv')\n",
    "data.head()"
   ]
  },
  {
   "cell_type": "code",
   "execution_count": null,
   "metadata": {
    "collapsed": true
   },
   "outputs": [],
   "source": [
    "from sklearn.model_selection import KFold\n",
    "X=np.array([176,29])\n",
    "Y=np.array([176,28])\n",
    "kf=-KFold(n_splits=28)\n",
    "kf.get_n_splits(X)\n",
    "\n",
    "print(kf)\n",
    "KFold(n_splits=28,random_state=None, shuffle=False)\n",
    "for tain_index, test_index in kf.split(X):\n",
    "    print(\"Train:\", test_index, \"TEST:\", test_index)\n",
    "    X_train, X_test=X[train_index], X[test_index]\n",
    "    Y_train, Y_test=Y[train_index], Y[test_index]\n"
   ]
  },
  {
   "cell_type": "markdown",
   "metadata": {},
   "source": []
  }
 ],
 "metadata": {
  "kernelspec": {
   "display_name": "Python 3",
   "language": "python",
   "name": "python3"
  },
  "language_info": {
   "codemirror_mode": {
    "name": "ipython",
    "version": 3
   },
   "file_extension": ".py",
   "mimetype": "text/x-python",
   "name": "python",
   "nbconvert_exporter": "python",
   "pygments_lexer": "ipython3",
   "version": "3.6.3"
  }
 },
 "nbformat": 4,
 "nbformat_minor": 2
}
